{
 "cells": [
  {
   "cell_type": "markdown",
   "metadata": {},
   "source": [
    "Task 1"
   ]
  },
  {
   "cell_type": "code",
   "execution_count": 1,
   "metadata": {},
   "outputs": [
    {
     "name": "stdout",
     "output_type": "stream",
     "text": [
      "Current date: 2025-02-13 13:17:19.600660\n",
      "Date after subtracting five days: 2025-02-08 13:17:19.600660\n"
     ]
    }
   ],
   "source": [
    "from datetime import datetime, timedelta\n",
    "\n",
    "current_date = datetime.now()\n",
    "\n",
    "new_date = current_date - timedelta(days=5)\n",
    "\n",
    "print(\"Current date:\", current_date)\n",
    "print(\"Date after subtracting five days:\", new_date)"
   ]
  },
  {
   "cell_type": "markdown",
   "metadata": {},
   "source": [
    "Task 2"
   ]
  },
  {
   "cell_type": "code",
   "execution_count": 2,
   "metadata": {},
   "outputs": [
    {
     "name": "stdout",
     "output_type": "stream",
     "text": [
      "Yesterday: 2025-02-12 13:17:19.600660\n",
      "Today: 2025-02-13 13:17:19.600660\n",
      "Tomorrow: 2025-02-14 13:17:19.600660\n"
     ]
    }
   ],
   "source": [
    "yesterday = current_date - timedelta(days=1)\n",
    "today = current_date\n",
    "tomorrow = current_date + timedelta(days=1)\n",
    "\n",
    "print(\"Yesterday:\", yesterday)\n",
    "print(\"Today:\", today)\n",
    "print(\"Tomorrow:\", tomorrow)"
   ]
  },
  {
   "cell_type": "markdown",
   "metadata": {},
   "source": [
    "Task 3"
   ]
  },
  {
   "cell_type": "code",
   "execution_count": 5,
   "metadata": {},
   "outputs": [
    {
     "name": "stdout",
     "output_type": "stream",
     "text": [
      "Current date without microseconds: 2025-02-13 13:17:19\n"
     ]
    }
   ],
   "source": [
    "current_date_no_microseconds = current_date.replace(microsecond=0)\n",
    "\n",
    "print(\"Current date without microseconds:\", current_date_no_microseconds)\n"
   ]
  },
  {
   "cell_type": "markdown",
   "metadata": {},
   "source": [
    "Task 4"
   ]
  },
  {
   "cell_type": "code",
   "execution_count": 6,
   "metadata": {},
   "outputs": [
    {
     "name": "stdout",
     "output_type": "stream",
     "text": [
      "Difference in seconds: 172800.0\n"
     ]
    }
   ],
   "source": [
    "date_difference = tomorrow - yesterday\n",
    "\n",
    "difference_in_seconds = date_difference.total_seconds()\n",
    "\n",
    "print(\"Difference in seconds:\", difference_in_seconds)"
   ]
  }
 ],
 "metadata": {
  "kernelspec": {
   "display_name": "Python 3",
   "language": "python",
   "name": "python3"
  },
  "language_info": {
   "codemirror_mode": {
    "name": "ipython",
    "version": 3
   },
   "file_extension": ".py",
   "mimetype": "text/x-python",
   "name": "python",
   "nbconvert_exporter": "python",
   "pygments_lexer": "ipython3",
   "version": "3.11.9"
  }
 },
 "nbformat": 4,
 "nbformat_minor": 2
}

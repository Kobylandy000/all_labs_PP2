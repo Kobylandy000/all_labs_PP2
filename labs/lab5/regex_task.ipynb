{
 "cells": [
  {
   "cell_type": "markdown",
   "metadata": {},
   "source": [
    "Task 1"
   ]
  },
  {
   "cell_type": "code",
   "execution_count": 1,
   "metadata": {},
   "outputs": [],
   "source": [
    "import re\n",
    "\n",
    "def match_a_b(string):\n",
    "    return bool(re.fullmatch(r'ab*', string))"
   ]
  },
  {
   "cell_type": "markdown",
   "metadata": {},
   "source": [
    "Task 2"
   ]
  },
  {
   "cell_type": "code",
   "execution_count": 2,
   "metadata": {},
   "outputs": [],
   "source": [
    "def match_a_bb(string):\n",
    "    return bool(re.fullmatch(r'ab{2,3}', string))"
   ]
  },
  {
   "cell_type": "markdown",
   "metadata": {},
   "source": [
    "Task 3"
   ]
  },
  {
   "cell_type": "code",
   "execution_count": 3,
   "metadata": {},
   "outputs": [],
   "source": [
    "def find_underscore_sequence(string):\n",
    "    return re.findall(r'\\b[a-z]+_[a-z]+\\b', string)"
   ]
  },
  {
   "cell_type": "markdown",
   "metadata": {},
   "source": [
    "Task 4"
   ]
  },
  {
   "cell_type": "code",
   "execution_count": 4,
   "metadata": {},
   "outputs": [],
   "source": [
    "def find_upper_followed_by_lower(string):\n",
    "    return re.findall(r'[A-Z][a-z]+', string)"
   ]
  },
  {
   "cell_type": "markdown",
   "metadata": {},
   "source": [
    "Task 5"
   ]
  },
  {
   "cell_type": "code",
   "execution_count": 5,
   "metadata": {},
   "outputs": [],
   "source": [
    "def match_a_anything_b(string):\n",
    "    return bool(re.fullmatch(r'a.*b', string))"
   ]
  },
  {
   "cell_type": "markdown",
   "metadata": {},
   "source": [
    "Task 6"
   ]
  },
  {
   "cell_type": "code",
   "execution_count": 6,
   "metadata": {},
   "outputs": [],
   "source": [
    "def replace_with_colon(string):\n",
    "    return re.sub(r'[ ,.]', ':', string)"
   ]
  },
  {
   "cell_type": "markdown",
   "metadata": {},
   "source": [
    "Task 7"
   ]
  },
  {
   "cell_type": "code",
   "execution_count": 7,
   "metadata": {},
   "outputs": [],
   "source": [
    "def snake_to_camel(string):\n",
    "    return re.sub(r'_(.)', lambda m: m.group(1).upper(), string)\n"
   ]
  },
  {
   "cell_type": "markdown",
   "metadata": {},
   "source": [
    "Task 8"
   ]
  },
  {
   "cell_type": "code",
   "execution_count": 8,
   "metadata": {},
   "outputs": [],
   "source": [
    "def split_at_uppercase(string):\n",
    "    return re.split(r'(?=[A-Z])', string)"
   ]
  },
  {
   "cell_type": "markdown",
   "metadata": {},
   "source": [
    "Task 9"
   ]
  },
  {
   "cell_type": "code",
   "execution_count": 9,
   "metadata": {},
   "outputs": [],
   "source": [
    "def insert_spaces(string):\n",
    "    return re.sub(r'(?<!^)(?=[A-Z])', ' ', string)"
   ]
  },
  {
   "cell_type": "markdown",
   "metadata": {},
   "source": [
    "Task 10"
   ]
  },
  {
   "cell_type": "code",
   "execution_count": 10,
   "metadata": {},
   "outputs": [],
   "source": [
    "def camel_to_snake(string):\n",
    "    return re.sub(r'([a-z])([A-Z])', r'\\1_\\2', string).lower()"
   ]
  },
  {
   "cell_type": "code",
   "execution_count": 11,
   "metadata": {},
   "outputs": [
    {
     "name": "stdout",
     "output_type": "stream",
     "text": [
      "1. True\n",
      "2. True\n",
      "3. ['hello_world', 'example_text']\n",
      "4. ['Hello', 'World', 'Example']\n",
      "5. False\n",
      "6. hello::world::this:is:a:test\n",
      "7. snakeCaseExample\n",
      "8. ['', 'Camel', 'Case', 'String']\n",
      "9. This Is A Test\n",
      "10. camel_case_string\n"
     ]
    }
   ],
   "source": [
    "print(\"1.\", match_a_b(\"ab\"))\n",
    "print(\"2.\", match_a_bb(\"abb\"))\n",
    "print(\"3.\", find_underscore_sequence(\"hello_world example_text\"))\n",
    "print(\"4.\", find_upper_followed_by_lower(\"HelloWorld Example\"))\n",
    "print(\"5.\", match_a_anything_b(\"aAnythingB\"))\n",
    "print(\"6.\", replace_with_colon(\"hello, world. this is a test\"))\n",
    "print(\"7.\", snake_to_camel(\"snake_case_example\"))\n",
    "print(\"8.\", split_at_uppercase(\"CamelCaseString\"))\n",
    "print(\"9.\", insert_spaces(\"ThisIsATest\"))\n",
    "print(\"10.\", camel_to_snake(\"CamelCaseString\"))"
   ]
  }
 ],
 "metadata": {
  "kernelspec": {
   "display_name": "Python 3",
   "language": "python",
   "name": "python3"
  },
  "language_info": {
   "codemirror_mode": {
    "name": "ipython",
    "version": 3
   },
   "file_extension": ".py",
   "mimetype": "text/x-python",
   "name": "python",
   "nbconvert_exporter": "python",
   "pygments_lexer": "ipython3",
   "version": "3.11.9"
  }
 },
 "nbformat": 4,
 "nbformat_minor": 2
}
